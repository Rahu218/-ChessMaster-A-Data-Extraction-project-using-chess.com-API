{
  "nbformat": 4,
  "nbformat_minor": 0,
  "metadata": {
    "colab": {
      "provenance": []
    },
    "kernelspec": {
      "name": "python3",
      "display_name": "Python 3"
    },
    "language_info": {
      "name": "python"
    }
  },
  "cells": [
    {
      "cell_type": "markdown",
      "source": [
        "## Chess.com API project for extracting data for any user in a CSV formate."
      ],
      "metadata": {
        "id": "LEFVVpjrDUfO"
      }
    },
    {
      "cell_type": "code",
      "execution_count": 1,
      "metadata": {
        "colab": {
          "base_uri": "https://localhost:8080/"
        },
        "id": "2YrSzDofDGw2",
        "outputId": "0655cced-2b2a-403f-a4f2-23d0be7eaeb6"
      },
      "outputs": [
        {
          "output_type": "stream",
          "name": "stdout",
          "text": [
            "Looking in indexes: https://pypi.org/simple, https://us-python.pkg.dev/colab-wheels/public/simple/\n",
            "Requirement already satisfied: pip in /usr/local/lib/python3.9/dist-packages (23.0.1)\n"
          ]
        }
      ],
      "source": [
        "!pip install pip"
      ]
    },
    {
      "cell_type": "code",
      "source": [
        "pip install chess.com"
      ],
      "metadata": {
        "colab": {
          "base_uri": "https://localhost:8080/"
        },
        "id": "U5j013yLDolj",
        "outputId": "90a457a2-93c4-4e3c-b575-689f789224f4"
      },
      "execution_count": 2,
      "outputs": [
        {
          "output_type": "stream",
          "name": "stdout",
          "text": [
            "Looking in indexes: https://pypi.org/simple, https://us-python.pkg.dev/colab-wheels/public/simple/\n",
            "Collecting chess.com\n",
            "  Downloading chess.com-2.0.6-py3-none-any.whl (11 kB)\n",
            "Collecting requests==2.28.0\n",
            "  Downloading requests-2.28.0-py3-none-any.whl (62 kB)\n",
            "\u001b[2K     \u001b[90m━━━━━━━━━━━━━━━━━━━━━━━━━━━━━━━━━━━━━━━━\u001b[0m \u001b[32m62.8/62.8 kB\u001b[0m \u001b[31m2.3 MB/s\u001b[0m eta \u001b[36m0:00:00\u001b[0m\n",
            "\u001b[?25hCollecting aiohttp==3.8.3\n",
            "  Downloading aiohttp-3.8.3-cp39-cp39-manylinux_2_17_x86_64.manylinux2014_x86_64.whl (1.0 MB)\n",
            "\u001b[2K     \u001b[90m━━━━━━━━━━━━━━━━━━━━━━━━━━━━━━━━━━━━━━━━\u001b[0m \u001b[32m1.0/1.0 MB\u001b[0m \u001b[31m17.7 MB/s\u001b[0m eta \u001b[36m0:00:00\u001b[0m\n",
            "\u001b[?25hRequirement already satisfied: charset-normalizer<3.0,>=2.0 in /usr/local/lib/python3.9/dist-packages (from aiohttp==3.8.3->chess.com) (2.0.12)\n",
            "Requirement already satisfied: attrs>=17.3.0 in /usr/local/lib/python3.9/dist-packages (from aiohttp==3.8.3->chess.com) (22.2.0)\n",
            "Collecting multidict<7.0,>=4.5\n",
            "  Downloading multidict-6.0.4-cp39-cp39-manylinux_2_17_x86_64.manylinux2014_x86_64.whl (114 kB)\n",
            "\u001b[2K     \u001b[90m━━━━━━━━━━━━━━━━━━━━━━━━━━━━━━━━━━━━━━\u001b[0m \u001b[32m114.2/114.2 kB\u001b[0m \u001b[31m11.0 MB/s\u001b[0m eta \u001b[36m0:00:00\u001b[0m\n",
            "\u001b[?25hCollecting aiosignal>=1.1.2\n",
            "  Downloading aiosignal-1.3.1-py3-none-any.whl (7.6 kB)\n",
            "Collecting async-timeout<5.0,>=4.0.0a3\n",
            "  Downloading async_timeout-4.0.2-py3-none-any.whl (5.8 kB)\n",
            "Collecting yarl<2.0,>=1.0\n",
            "  Downloading yarl-1.8.2-cp39-cp39-manylinux_2_17_x86_64.manylinux2014_x86_64.whl (264 kB)\n",
            "\u001b[2K     \u001b[90m━━━━━━━━━━━━━━━━━━━━━━━━━━━━━━━━━━━━━━\u001b[0m \u001b[32m264.6/264.6 kB\u001b[0m \u001b[31m16.4 MB/s\u001b[0m eta \u001b[36m0:00:00\u001b[0m\n",
            "\u001b[?25hCollecting frozenlist>=1.1.1\n",
            "  Downloading frozenlist-1.3.3-cp39-cp39-manylinux_2_5_x86_64.manylinux1_x86_64.manylinux_2_17_x86_64.manylinux2014_x86_64.whl (158 kB)\n",
            "\u001b[2K     \u001b[90m━━━━━━━━━━━━━━━━━━━━━━━━━━━━━━━━━━━━━━\u001b[0m \u001b[32m158.8/158.8 kB\u001b[0m \u001b[31m14.8 MB/s\u001b[0m eta \u001b[36m0:00:00\u001b[0m\n",
            "\u001b[?25hRequirement already satisfied: certifi>=2017.4.17 in /usr/local/lib/python3.9/dist-packages (from requests==2.28.0->chess.com) (2022.12.7)\n",
            "Requirement already satisfied: urllib3<1.27,>=1.21.1 in /usr/local/lib/python3.9/dist-packages (from requests==2.28.0->chess.com) (1.26.15)\n",
            "Requirement already satisfied: idna<4,>=2.5 in /usr/local/lib/python3.9/dist-packages (from requests==2.28.0->chess.com) (3.4)\n",
            "Installing collected packages: requests, multidict, frozenlist, async-timeout, yarl, aiosignal, aiohttp, chess.com\n",
            "  Attempting uninstall: requests\n",
            "    Found existing installation: requests 2.27.1\n",
            "    Uninstalling requests-2.27.1:\n",
            "      Successfully uninstalled requests-2.27.1\n",
            "Successfully installed aiohttp-3.8.3 aiosignal-1.3.1 async-timeout-4.0.2 chess.com-2.0.6 frozenlist-1.3.3 multidict-6.0.4 requests-2.28.0 yarl-1.8.2\n"
          ]
        }
      ]
    },
    {
      "cell_type": "code",
      "source": [
        "from chessdotcom import get_leaderboards, get_player_stats, get_player_game_archives \n",
        "import pprint\n",
        "import requests\n",
        "import re"
      ],
      "metadata": {
        "id": "xlzmDVkhD4YZ"
      },
      "execution_count": 4,
      "outputs": []
    },
    {
      "cell_type": "markdown",
      "source": [
        "Below code is to extract a Dictonery where a key is the ECO code (which is different for every opening) and the values contain the opening name and inital moves for every coressponding ECO codes. "
      ],
      "metadata": {
        "id": "ux8R9BHQECgv"
      }
    },
    {
      "cell_type": "code",
      "source": [
        "#ECO codes - chess opning generator \n",
        "# Open the text file for reading\n",
        "def split_(line):\n",
        "  split_line = line.strip().split('\\t')\n",
        "  return split_line\n",
        "\n",
        "with open('chess_openings.txt', 'r') as file:\n",
        "\n",
        "    opening_dict = {}\n",
        "    # Read each line in the file\n",
        "    a=0\n",
        "    for line in file:\n",
        "      if a==0:\n",
        "        ret = split_(line)\n",
        "        eco_code = ret[0]\n",
        "        opening_name = ret[1]\n",
        "        a=1\n",
        "      else:\n",
        "        ret = split_(line)\n",
        "        mo=ret[0]\n",
        "        a=0\n",
        "        opening_dict[eco_code] = (opening_name, mo)\n",
        "    \n"
      ],
      "metadata": {
        "id": "GD3kBIHsD8U3"
      },
      "execution_count": 27,
      "outputs": []
    },
    {
      "cell_type": "code",
      "source": [
        "#function to retrive data from each game;\n",
        "#input - a Game\n",
        "#list containg the following:\n",
        "#[1.mode of game; 2.user played with; 3.Game result; 4.raiting of the user; 5.rating of opponent; 6.opening played by user; 7.Inital moves; 8.Url of the game]\n",
        "\n",
        "def get_data(in_game,user_name):\n",
        "  return_list = []\n",
        "  info_game=in_game\n",
        "  tocken = 1\n",
        "\n",
        "  aval_info = info_game.keys()\n",
        "  req_info = ['url', 'pgn', 'end_time', 'rated', 'tcn', 'uuid', 'initial_setup', 'fen', 'time_class', 'rules', 'white', 'black']\n",
        "  for i in req_info:\n",
        "    if i in aval_info:\n",
        "      pass\n",
        "    else:\n",
        "      tocken = 0\n",
        "      break\n",
        "  \n",
        "  if tocken ==1:\n",
        "    game_str = info_game['pgn']\n",
        "    mat = re.search(r'\\[ECO \"(.*?)\"\\]', game_str)\n",
        "    if mat is None:\n",
        "      tocken = 0\n",
        "  else:\n",
        "    pass\n",
        "  if info_game['rules'] == 'chess' and tocken ==1:\n",
        "    #start\n",
        "\n",
        "    #Date of the game played:\n",
        "    game_str = info_game['pgn']\n",
        "    match = re.search(r'\\[Date \"(\\d{4}\\.\\d{2}\\.\\d{2})\"\\]', game_str)\n",
        "    if match:\n",
        "      date = match.group(1)\n",
        "      return_list.append(date)\n",
        "\n",
        "\n",
        "    #For the Mode of the chesss game,\n",
        "    game_mode = info_game['time_class']\n",
        "    return_list.append(game_mode)\n",
        "\n",
        "    #For fingind the user played with white pices or black,\n",
        "    if info_game['white']['username'] == user_name:\n",
        "      played_with = \"white\"\n",
        "      opp_played_with = \"black\"\n",
        "    else:\n",
        "      played_with = \"black\"\n",
        "      opp_played_with = \"white\"\n",
        "    return_list.append(played_with)\n",
        "\n",
        "    #win or Loss for the user in the game:\n",
        "    game_str = info_game['pgn']\n",
        "    game_result = re.search(r'\\[Result \"(.*?)\"\\]', game_str).group(1)\n",
        "    if game_result == \"1/2-1/2\":\n",
        "      user_result = 'draw'\n",
        "    elif played_with == \"white\":\n",
        "      if game_result == \"1-0\":\n",
        "        user_result = \"win\"\n",
        "      else:\n",
        "        user_result = \"loss\"\n",
        "    else:\n",
        "      if game_result == \"0-1\":\n",
        "        user_result = \"win\"\n",
        "      else:\n",
        "        user_result = \"loss\"\n",
        "    return_list.append(user_result)\n",
        "\n",
        "    #rating of the user and opponent in the game:\n",
        "    user_rating = info_game[played_with]['rating']\n",
        "    opp_rating = info_game[opp_played_with]['rating']\n",
        "    return_list.append(user_rating)\n",
        "    return_list.append(opp_rating)\n",
        "\n",
        "  \n",
        "    #opening played by user- opening Name and inital moves:\n",
        "    game_str = info_game['pgn']\n",
        "    eco_code = re.search(r'\\[ECO \"(.*?)\"\\]', game_str).group(1)\n",
        "    played = opening_dict[eco_code]\n",
        "    opening_name = played[0]\n",
        "    opening_moves = played[1]\n",
        "    return_list.append(opening_name)\n",
        "    return_list.append(opening_moves)\n",
        "\n",
        "    #all the moves:\n",
        "    pgn = '[Event \"Live Chess\"]\\n' # the PGN notation from the dictionary\n",
        "    moves = re.findall('\\d+\\.\\s(\\S+)', game_str) # extract all the moves using a regex\n",
        "    return_list.append(moves)\n",
        "    \n",
        "\n",
        "    #url of the game:\n",
        "    url_ofgame = info_game['url']\n",
        "    return_list.append(url_ofgame)\n",
        "    \n",
        "  else:\n",
        "    pass\n",
        "  return return_list\n"
      ],
      "metadata": {
        "id": "HlTHUDZQE2tl"
      },
      "execution_count": 6,
      "outputs": []
    },
    {
      "cell_type": "code",
      "source": [
        "def get_thedata(username):\n",
        "  data = get_player_game_archives(username).json\n",
        "  all_games = data['archives']\n",
        "  return all_games"
      ],
      "metadata": {
        "id": "IL_SrQgWgt5M"
      },
      "execution_count": 8,
      "outputs": []
    },
    {
      "cell_type": "markdown",
      "source": [
        "In the below code enter the username of the player."
      ],
      "metadata": {
        "id": "3ylDX4WRFtpL"
      }
    },
    {
      "cell_type": "code",
      "source": [
        "#Enter the chess.com username of the player you want the data off:\n",
        "\n",
        "user_name = \"GothamChess\"\n"
      ],
      "metadata": {
        "id": "O-iVGci1IV_J"
      },
      "execution_count": 25,
      "outputs": []
    },
    {
      "cell_type": "code",
      "source": [
        "#Creating a dataframe for all the games played by the user:\n",
        "\n",
        "import pandas as pd\n",
        "\n",
        "df_list=[]\n",
        "\n",
        "def get_thedata(username):\n",
        "  data = get_player_game_archives(username).json\n",
        "  all_games = data['archives']\n",
        "  return all_games\n",
        "\n",
        "all_games = get_thedata(user_name)\n",
        "req_game_months = all_games[0:]\n",
        "\n",
        "\n",
        "for i in req_game_months:\n",
        "  url = i\n",
        "  games = requests.get(url).json()\n",
        "  for game_no in games['games']:\n",
        "    ret_list = get_data(game_no,user_name)\n",
        "    df_list.append(ret_list)\n",
        "\n",
        "df = pd.DataFrame(df_list, columns=[\"game_date\",\"game_mode\",\"player_color\",\"game_result\",\"player_rating\",\"opponent_rating\",\"opening_name\",\"opening_moves\",\"all_moves\",\"game_url\"])\n",
        "\n",
        "#Converting the dataframe to csv file using the function defined above:\n",
        "df.to_csv(str(user_name)+\".csv\")\n"
      ],
      "metadata": {
        "id": "DQQ-abmZFHSc"
      },
      "execution_count": 26,
      "outputs": []
    },
    {
      "cell_type": "code",
      "source": [
        "df.head()"
      ],
      "metadata": {
        "id": "pUEckl9fW-MQ",
        "colab": {
          "base_uri": "https://localhost:8080/",
          "height": 337
        },
        "outputId": "349f8a95-034c-47db-f128-9e45ba138962"
      },
      "execution_count": 28,
      "outputs": [
        {
          "output_type": "execute_result",
          "data": {
            "text/plain": [
              "    game_date game_mode player_color game_result  player_rating  \\\n",
              "0  2017.03.14     blitz        white         win         1917.0   \n",
              "1  2017.03.14     blitz        black         win         2021.0   \n",
              "2  2017.03.14     blitz        white         win         2098.0   \n",
              "3  2017.03.14     blitz        black         win         2230.0   \n",
              "4  2017.03.14     blitz        white         win         2311.0   \n",
              "\n",
              "   opponent_rating                    opening_name  \\\n",
              "0           1635.0               Queen's Pawn Game   \n",
              "1           1804.0                    Reti Opening   \n",
              "2           1876.0  Queen's Pawn Game (with ...d6)   \n",
              "3           2267.0         Queen's Gambit Accepted   \n",
              "4           2234.0               Queen's Pawn Game   \n",
              "\n",
              "                       opening_moves  \\\n",
              "0                               1 d4   \n",
              "1                              1 Nf3   \n",
              "2                            1 d4 d6   \n",
              "3  1 d4 d5 2 c4 dxc4 3 Nf3 Nf6 4 Nc3   \n",
              "4                           1 d4 Nf6   \n",
              "\n",
              "                                           all_moves  \\\n",
              "0  [d4, Nf3, c4, Nc3, Bf4, e3, Ne5, g4, gxf5, Rg1...   \n",
              "1  [Nf3, g3, Bg2, Ne5, b3, Bb2, Nc4, Bxg7, c3, bx...   \n",
              "2  [d4, c4, Nc3, e4, Be2, g4, d5, h4, h5, hxg6, g...   \n",
              "3  [d4, c4, Nf3, Nc3, e4, e5, a4, axb5, bxa6, Rxa...   \n",
              "4  [d4, Bg5, Qd3, e4, Nd2, h4, Be3, f3, g4, Ne2, ...   \n",
              "\n",
              "                                     game_url  \n",
              "0  https://www.chess.com/game/live/1996257721  \n",
              "1  https://www.chess.com/game/live/1996259836  \n",
              "2  https://www.chess.com/game/live/1996265351  \n",
              "3  https://www.chess.com/game/live/1996269835  \n",
              "4  https://www.chess.com/game/live/1996275562  "
            ],
            "text/html": [
              "\n",
              "  <div id=\"df-0deb552a-a66e-43eb-9276-aefcdbca2a34\">\n",
              "    <div class=\"colab-df-container\">\n",
              "      <div>\n",
              "<style scoped>\n",
              "    .dataframe tbody tr th:only-of-type {\n",
              "        vertical-align: middle;\n",
              "    }\n",
              "\n",
              "    .dataframe tbody tr th {\n",
              "        vertical-align: top;\n",
              "    }\n",
              "\n",
              "    .dataframe thead th {\n",
              "        text-align: right;\n",
              "    }\n",
              "</style>\n",
              "<table border=\"1\" class=\"dataframe\">\n",
              "  <thead>\n",
              "    <tr style=\"text-align: right;\">\n",
              "      <th></th>\n",
              "      <th>game_date</th>\n",
              "      <th>game_mode</th>\n",
              "      <th>player_color</th>\n",
              "      <th>game_result</th>\n",
              "      <th>player_rating</th>\n",
              "      <th>opponent_rating</th>\n",
              "      <th>opening_name</th>\n",
              "      <th>opening_moves</th>\n",
              "      <th>all_moves</th>\n",
              "      <th>game_url</th>\n",
              "    </tr>\n",
              "  </thead>\n",
              "  <tbody>\n",
              "    <tr>\n",
              "      <th>0</th>\n",
              "      <td>2017.03.14</td>\n",
              "      <td>blitz</td>\n",
              "      <td>white</td>\n",
              "      <td>win</td>\n",
              "      <td>1917.0</td>\n",
              "      <td>1635.0</td>\n",
              "      <td>Queen's Pawn Game</td>\n",
              "      <td>1 d4</td>\n",
              "      <td>[d4, Nf3, c4, Nc3, Bf4, e3, Ne5, g4, gxf5, Rg1...</td>\n",
              "      <td>https://www.chess.com/game/live/1996257721</td>\n",
              "    </tr>\n",
              "    <tr>\n",
              "      <th>1</th>\n",
              "      <td>2017.03.14</td>\n",
              "      <td>blitz</td>\n",
              "      <td>black</td>\n",
              "      <td>win</td>\n",
              "      <td>2021.0</td>\n",
              "      <td>1804.0</td>\n",
              "      <td>Reti Opening</td>\n",
              "      <td>1 Nf3</td>\n",
              "      <td>[Nf3, g3, Bg2, Ne5, b3, Bb2, Nc4, Bxg7, c3, bx...</td>\n",
              "      <td>https://www.chess.com/game/live/1996259836</td>\n",
              "    </tr>\n",
              "    <tr>\n",
              "      <th>2</th>\n",
              "      <td>2017.03.14</td>\n",
              "      <td>blitz</td>\n",
              "      <td>white</td>\n",
              "      <td>win</td>\n",
              "      <td>2098.0</td>\n",
              "      <td>1876.0</td>\n",
              "      <td>Queen's Pawn Game (with ...d6)</td>\n",
              "      <td>1 d4 d6</td>\n",
              "      <td>[d4, c4, Nc3, e4, Be2, g4, d5, h4, h5, hxg6, g...</td>\n",
              "      <td>https://www.chess.com/game/live/1996265351</td>\n",
              "    </tr>\n",
              "    <tr>\n",
              "      <th>3</th>\n",
              "      <td>2017.03.14</td>\n",
              "      <td>blitz</td>\n",
              "      <td>black</td>\n",
              "      <td>win</td>\n",
              "      <td>2230.0</td>\n",
              "      <td>2267.0</td>\n",
              "      <td>Queen's Gambit Accepted</td>\n",
              "      <td>1 d4 d5 2 c4 dxc4 3 Nf3 Nf6 4 Nc3</td>\n",
              "      <td>[d4, c4, Nf3, Nc3, e4, e5, a4, axb5, bxa6, Rxa...</td>\n",
              "      <td>https://www.chess.com/game/live/1996269835</td>\n",
              "    </tr>\n",
              "    <tr>\n",
              "      <th>4</th>\n",
              "      <td>2017.03.14</td>\n",
              "      <td>blitz</td>\n",
              "      <td>white</td>\n",
              "      <td>win</td>\n",
              "      <td>2311.0</td>\n",
              "      <td>2234.0</td>\n",
              "      <td>Queen's Pawn Game</td>\n",
              "      <td>1 d4 Nf6</td>\n",
              "      <td>[d4, Bg5, Qd3, e4, Nd2, h4, Be3, f3, g4, Ne2, ...</td>\n",
              "      <td>https://www.chess.com/game/live/1996275562</td>\n",
              "    </tr>\n",
              "  </tbody>\n",
              "</table>\n",
              "</div>\n",
              "      <button class=\"colab-df-convert\" onclick=\"convertToInteractive('df-0deb552a-a66e-43eb-9276-aefcdbca2a34')\"\n",
              "              title=\"Convert this dataframe to an interactive table.\"\n",
              "              style=\"display:none;\">\n",
              "        \n",
              "  <svg xmlns=\"http://www.w3.org/2000/svg\" height=\"24px\"viewBox=\"0 0 24 24\"\n",
              "       width=\"24px\">\n",
              "    <path d=\"M0 0h24v24H0V0z\" fill=\"none\"/>\n",
              "    <path d=\"M18.56 5.44l.94 2.06.94-2.06 2.06-.94-2.06-.94-.94-2.06-.94 2.06-2.06.94zm-11 1L8.5 8.5l.94-2.06 2.06-.94-2.06-.94L8.5 2.5l-.94 2.06-2.06.94zm10 10l.94 2.06.94-2.06 2.06-.94-2.06-.94-.94-2.06-.94 2.06-2.06.94z\"/><path d=\"M17.41 7.96l-1.37-1.37c-.4-.4-.92-.59-1.43-.59-.52 0-1.04.2-1.43.59L10.3 9.45l-7.72 7.72c-.78.78-.78 2.05 0 2.83L4 21.41c.39.39.9.59 1.41.59.51 0 1.02-.2 1.41-.59l7.78-7.78 2.81-2.81c.8-.78.8-2.07 0-2.86zM5.41 20L4 18.59l7.72-7.72 1.47 1.35L5.41 20z\"/>\n",
              "  </svg>\n",
              "      </button>\n",
              "      \n",
              "  <style>\n",
              "    .colab-df-container {\n",
              "      display:flex;\n",
              "      flex-wrap:wrap;\n",
              "      gap: 12px;\n",
              "    }\n",
              "\n",
              "    .colab-df-convert {\n",
              "      background-color: #E8F0FE;\n",
              "      border: none;\n",
              "      border-radius: 50%;\n",
              "      cursor: pointer;\n",
              "      display: none;\n",
              "      fill: #1967D2;\n",
              "      height: 32px;\n",
              "      padding: 0 0 0 0;\n",
              "      width: 32px;\n",
              "    }\n",
              "\n",
              "    .colab-df-convert:hover {\n",
              "      background-color: #E2EBFA;\n",
              "      box-shadow: 0px 1px 2px rgba(60, 64, 67, 0.3), 0px 1px 3px 1px rgba(60, 64, 67, 0.15);\n",
              "      fill: #174EA6;\n",
              "    }\n",
              "\n",
              "    [theme=dark] .colab-df-convert {\n",
              "      background-color: #3B4455;\n",
              "      fill: #D2E3FC;\n",
              "    }\n",
              "\n",
              "    [theme=dark] .colab-df-convert:hover {\n",
              "      background-color: #434B5C;\n",
              "      box-shadow: 0px 1px 3px 1px rgba(0, 0, 0, 0.15);\n",
              "      filter: drop-shadow(0px 1px 2px rgba(0, 0, 0, 0.3));\n",
              "      fill: #FFFFFF;\n",
              "    }\n",
              "  </style>\n",
              "\n",
              "      <script>\n",
              "        const buttonEl =\n",
              "          document.querySelector('#df-0deb552a-a66e-43eb-9276-aefcdbca2a34 button.colab-df-convert');\n",
              "        buttonEl.style.display =\n",
              "          google.colab.kernel.accessAllowed ? 'block' : 'none';\n",
              "\n",
              "        async function convertToInteractive(key) {\n",
              "          const element = document.querySelector('#df-0deb552a-a66e-43eb-9276-aefcdbca2a34');\n",
              "          const dataTable =\n",
              "            await google.colab.kernel.invokeFunction('convertToInteractive',\n",
              "                                                     [key], {});\n",
              "          if (!dataTable) return;\n",
              "\n",
              "          const docLinkHtml = 'Like what you see? Visit the ' +\n",
              "            '<a target=\"_blank\" href=https://colab.research.google.com/notebooks/data_table.ipynb>data table notebook</a>'\n",
              "            + ' to learn more about interactive tables.';\n",
              "          element.innerHTML = '';\n",
              "          dataTable['output_type'] = 'display_data';\n",
              "          await google.colab.output.renderOutput(dataTable, element);\n",
              "          const docLink = document.createElement('div');\n",
              "          docLink.innerHTML = docLinkHtml;\n",
              "          element.appendChild(docLink);\n",
              "        }\n",
              "      </script>\n",
              "    </div>\n",
              "  </div>\n",
              "  "
            ]
          },
          "metadata": {},
          "execution_count": 28
        }
      ]
    },
    {
      "cell_type": "code",
      "source": [],
      "metadata": {
        "id": "gFYuZQ_z1Gd4"
      },
      "execution_count": null,
      "outputs": []
    }
  ]
}